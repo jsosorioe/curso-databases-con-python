{
  "nbformat": 4,
  "nbformat_minor": 0,
  "metadata": {
    "colab": {
      "name": "Coursera_Python_Databases.ipynb",
      "provenance": []
    },
    "kernelspec": {
      "name": "python3",
      "display_name": "Python 3"
    },
    "language_info": {
      "name": "python"
    }
  },
  "cells": [
    {
      "cell_type": "code",
      "execution_count": null,
      "metadata": {
        "colab": {
          "base_uri": "https://localhost:8080/",
          "height": 261
        },
        "id": "INV8fxEb3XHm",
        "outputId": "25808d7a-a051-4639-91f3-98d05794b62a"
      },
      "outputs": [
        {
          "output_type": "stream",
          "name": "stdout",
          "text": [
            "<class 'bytes'>\n"
          ]
        },
        {
          "output_type": "error",
          "ename": "BrokenPipeError",
          "evalue": "ignored",
          "traceback": [
            "\u001b[0;31m---------------------------------------------------------------------------\u001b[0m",
            "\u001b[0;31mBrokenPipeError\u001b[0m                           Traceback (most recent call last)",
            "\u001b[0;32m<ipython-input-10-bd2f663c3b4c>\u001b[0m in \u001b[0;36m<module>\u001b[0;34m()\u001b[0m\n\u001b[1;32m      4\u001b[0m \u001b[0mprint\u001b[0m\u001b[0;34m(\u001b[0m\u001b[0mtype\u001b[0m\u001b[0;34m(\u001b[0m\u001b[0mcmd\u001b[0m\u001b[0;34m)\u001b[0m\u001b[0;34m)\u001b[0m \u001b[0;31m#se convirtio a bytes\u001b[0m\u001b[0;34m\u001b[0m\u001b[0;34m\u001b[0m\u001b[0m\n\u001b[1;32m      5\u001b[0m \u001b[0;34m\u001b[0m\u001b[0m\n\u001b[0;32m----> 6\u001b[0;31m \u001b[0mmysock\u001b[0m\u001b[0;34m.\u001b[0m\u001b[0msend\u001b[0m\u001b[0;34m(\u001b[0m\u001b[0mcmd\u001b[0m\u001b[0;34m)\u001b[0m\u001b[0;34m\u001b[0m\u001b[0;34m\u001b[0m\u001b[0m\n\u001b[0m\u001b[1;32m      7\u001b[0m \u001b[0;32mwhile\u001b[0m \u001b[0;32mTrue\u001b[0m\u001b[0;34m:\u001b[0m\u001b[0;34m\u001b[0m\u001b[0;34m\u001b[0m\u001b[0m\n\u001b[1;32m      8\u001b[0m   \u001b[0mdata\u001b[0m \u001b[0;34m=\u001b[0m \u001b[0mmysock\u001b[0m\u001b[0;34m.\u001b[0m\u001b[0mrecv\u001b[0m\u001b[0;34m(\u001b[0m\u001b[0;36m512\u001b[0m\u001b[0;34m)\u001b[0m\u001b[0;34m\u001b[0m\u001b[0;34m\u001b[0m\u001b[0m\n",
            "\u001b[0;31mBrokenPipeError\u001b[0m: [Errno 32] Broken pipe"
          ]
        }
      ],
      "source": [
        "import socket \n",
        "mysock = socket.socket(socket.AF_INET, socket.SOCK_STREAM)\n",
        "cmd = \"GET http://data.pr4e.org/romeo.txt HTTP/1.0\\n\\n\".encode()\n",
        "print(type(cmd)) #se convirtio a bytes\n",
        "\n",
        "mysock.send(cmd)\n",
        "while True:\n",
        "  data = mysock.recv(512)\n",
        "  if (len(data)<1):\n",
        "    break\n",
        "  print(data.decode())\n",
        "mysock.close()\n"
      ]
    },
    {
      "cell_type": "code",
      "source": [
        "class PartyAnimal:\n",
        "  x = 0\n",
        "  def __init__(self): #atributos\n",
        "    print(\"Estoy construyendo\")\n",
        "\n",
        "  def party(self): #Metodo\n",
        "    self.x = self.x + 1\n",
        "    print(\"hasta ahora\", self.x)\n",
        "\n",
        "  def __del__(self):\n",
        "    print(\"soy el destructor\", self.x)\n",
        "\n",
        "an = PartyAnimal()\n",
        "print(type(an))\n",
        "an.party()\n",
        "an.party()\n",
        "an = 42\n",
        "print(\"an contiene\", an)\n"
      ],
      "metadata": {
        "colab": {
          "base_uri": "https://localhost:8080/"
        },
        "id": "2FIPVHmVce4e",
        "outputId": "1942b361-82ac-4dcb-870c-c78a08a47ddd"
      },
      "execution_count": 23,
      "outputs": [
        {
          "output_type": "stream",
          "name": "stdout",
          "text": [
            "Estoy construyendo\n",
            "<class '__main__.PartyAnimal'>\n",
            "hasta ahora 1\n",
            "hasta ahora 2\n",
            "soy el destructor 2\n",
            "an contiene 42\n"
          ]
        }
      ]
    },
    {
      "cell_type": "markdown",
      "source": [
        "When reading data across the network (i.e. from a URL) in Python 3, what method must be used to convert it to the internal format used by strings?\n",
        "decode()"
      ],
      "metadata": {
        "id": "IggKLMJsEmnB"
      }
    },
    {
      "cell_type": "code",
      "source": [
        "class PartyAnimal:\n",
        "  x = 0\n",
        "  name = \"\"\n",
        "  def __init__(self,z):\n",
        "    self.name = z\n",
        "    print(self.name,\"Estoy construyendo\")\n",
        "    \n",
        "  def party(self): #Metodo\n",
        "    self.x = self.x + 1\n",
        "    print(self.name, \"party count\", self.x)\n",
        "\n",
        "\n",
        "s = PartyAnimal(\"Sally\")\n",
        "s.party()\n",
        "\n",
        "j = PartyAnimal(\"Jim\")\n",
        "j.party()\n",
        "s.party()"
      ],
      "metadata": {
        "id": "LH7cxBpE90e8",
        "colab": {
          "base_uri": "https://localhost:8080/"
        },
        "outputId": "f2a8d3f2-319e-4cbc-f55c-d90a7cbbca2e"
      },
      "execution_count": 24,
      "outputs": [
        {
          "output_type": "stream",
          "name": "stdout",
          "text": [
            "Sally Estoy construyendo\n",
            "Sally party count 1\n",
            "Jim Estoy construyendo\n",
            "Jim party count 1\n",
            "Sally party count 2\n"
          ]
        }
      ]
    },
    {
      "cell_type": "markdown",
      "source": [
        "Herencia"
      ],
      "metadata": {
        "id": "Al3_h756sjJQ"
      }
    },
    {
      "cell_type": "code",
      "source": [
        "class PartyAnimal:\n",
        "  x = 0\n",
        "  name = \"\"\n",
        "  def __init__(self,z):\n",
        "    self.name = z\n",
        "    print(self.name,\"Estoy construyendo\")\n",
        "    \n",
        "  def party(self): #Metodo\n",
        "    self.x = self.x + 1\n",
        "    print(self.name, \"party count\", self.x)\n",
        "class FootballFan(PartyAnimal):\n",
        "  points = 0\n",
        "  def touchdown(self):\n",
        "    self.points = self.points\n",
        "    self.party() #esta llamando al metodo anterior\n",
        "    print(self.name, \"points\",self.points)\n",
        "\n",
        "s = PartyAnimal(\"Sally\")\n",
        "s.party()\n",
        "\n",
        "j = FootballFan(\"Jim\")\n",
        "j.party()\n",
        "j.touchdown()"
      ],
      "metadata": {
        "colab": {
          "base_uri": "https://localhost:8080/"
        },
        "id": "TGYEVXT2skDy",
        "outputId": "a2f38b38-60ca-4b7b-8439-68182c61dd5c"
      },
      "execution_count": 27,
      "outputs": [
        {
          "output_type": "stream",
          "name": "stdout",
          "text": [
            "Sally Estoy construyendo\n",
            "Sally party count 1\n",
            "Jim Estoy construyendo\n",
            "Jim party count 1\n",
            "Jim party count 2\n",
            "Jim points 0\n"
          ]
        }
      ]
    }
  ]
}